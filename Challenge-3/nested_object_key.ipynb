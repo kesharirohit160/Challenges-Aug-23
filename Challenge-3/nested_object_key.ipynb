{
 "cells": [
  {
   "cell_type": "markdown",
   "id": "6e503aa1",
   "metadata": {},
   "source": [
    "# Challenge #3\n",
    "## We have a nested object. We would like a function where you pass in the object and a key and get back the value.\n",
    "### The choice of language and implementation is up to you."
   ]
  },
  {
   "cell_type": "markdown",
   "id": "08b1400e",
   "metadata": {},
   "source": [
    "#### Dictionary - Dictionaries are used to store data values in key:value pairs. I will use Dictionary to solve this challenge."
   ]
  },
  {
   "cell_type": "code",
   "execution_count": 1,
   "id": "ec830f82",
   "metadata": {},
   "outputs": [],
   "source": [
    "# Below is fundtion which I used and will pass the object and key and it will return the value as per Key.\n",
    "\n",
    "# I used try and except as well so that if any error is there code will not give error and it will retrun none.\n",
    "        # The try block lets you test a block of code for errors.\n",
    "        # The except block lets you handle the error.\n",
    "\n",
    "def find_nested_value(obj, key):\n",
    "    keys = key.split('/')\n",
    "    value = obj\n",
    "    \n",
    "    for k in keys:\n",
    "        try:\n",
    "            value = value[k]\n",
    "        except (TypeError, KeyError):\n",
    "            return None\n",
    "    \n",
    "    return value\n"
   ]
  },
  {
   "cell_type": "code",
   "execution_count": 2,
   "id": "1f6cb137",
   "metadata": {},
   "outputs": [
    {
     "name": "stdout",
     "output_type": "stream",
     "text": [
      " Object -:  {'a': {'b': {'c': 'd'}}}\n",
      " Key -:  a/b/c\n",
      " value -:  d\n"
     ]
    }
   ],
   "source": [
    "# I am giving here the first input\n",
    "object1 = {'a':{'b':{'c':'d'}}}\n",
    "key1 = 'a/b/c'\n",
    "\n",
    "#lets call the the fuction with input\n",
    "value = find_nested_value(object1,key1)\n",
    "\n",
    "# print the return value \n",
    "print(\" Object -: \", object1 )\n",
    "print(\" Key -: \", key1 )\n",
    "print(\" value -: \", value)"
   ]
  },
  {
   "cell_type": "code",
   "execution_count": 3,
   "id": "a39bd005",
   "metadata": {},
   "outputs": [
    {
     "name": "stdout",
     "output_type": "stream",
     "text": [
      " Object -:  {'x': {'y': {'z': 'a'}}}\n",
      " Key -:  x/y/z\n",
      " value -:  a\n"
     ]
    }
   ],
   "source": [
    "# I am giving here the first input\n",
    "object1 = {'x':{'y':{'z':'a'}}}\n",
    "key1 = 'x/y/z'\n",
    "\n",
    "#lets call the the fuction with input\n",
    "value = find_nested_value(object1,key1)\n",
    "\n",
    "# print the return value \n",
    "print(\" Object -: \", object1 )\n",
    "print(\" Key -: \", key1 )\n",
    "print(\" value -: \", value)"
   ]
  },
  {
   "cell_type": "code",
   "execution_count": 4,
   "id": "144f0804",
   "metadata": {},
   "outputs": [
    {
     "name": "stdout",
     "output_type": "stream",
     "text": [
      " Object -:  {'x': {'y': {'z': 'a'}}}\n",
      " Key -:  x/y\n",
      " value -:  {'z': 'a'}\n"
     ]
    }
   ],
   "source": [
    "# I am giving here the first input\n",
    "object1 = {'x':{'y':{'z':'a'}}}\n",
    "key1 = 'x/y'\n",
    "\n",
    "#lets call the the fuction with input\n",
    "value = find_nested_value(object1,key1)\n",
    "\n",
    "# print the return value \n",
    "print(\" Object -: \", object1 )\n",
    "print(\" Key -: \", key1 )\n",
    "print(\" value -: \", value)"
   ]
  },
  {
   "cell_type": "code",
   "execution_count": 5,
   "id": "820f0a29",
   "metadata": {},
   "outputs": [
    {
     "name": "stdout",
     "output_type": "stream",
     "text": [
      " Object -:  {'a': {'b': {'c': 'd'}}}\n",
      " Key -:  a/b\n",
      " value -:  {'c': 'd'}\n"
     ]
    }
   ],
   "source": [
    "# I am giving here the first input\n",
    "object1 = {'a':{'b':{'c':'d'}}}\n",
    "key1 = 'a/b'\n",
    "\n",
    "#lets call the the fuction with input\n",
    "value = find_nested_value(object1,key1)\n",
    "\n",
    "# print the return value \n",
    "print(\" Object -: \", object1 )\n",
    "print(\" Key -: \", key1 )\n",
    "print(\" value -: \", value)"
   ]
  },
  {
   "cell_type": "code",
   "execution_count": 6,
   "id": "0c40204d",
   "metadata": {},
   "outputs": [
    {
     "name": "stdout",
     "output_type": "stream",
     "text": [
      " Object -:  {'a': {'b': {'c': 'd'}}}\n",
      " Key -:  c\n",
      " value -:  None\n"
     ]
    }
   ],
   "source": [
    "# I am giving here the first input\n",
    "object1 = {'a':{'b':{'c':'d'}}}\n",
    "key1 = 'c'\n",
    "\n",
    "#lets call the the fuction with input\n",
    "value = find_nested_value(object1,key1)\n",
    "\n",
    "# print the return value \n",
    "print(\" Object -: \", object1 )\n",
    "print(\" Key -: \", key1 )\n",
    "print(\" value -: \", value)"
   ]
  },
  {
   "cell_type": "code",
   "execution_count": 7,
   "id": "a8685101",
   "metadata": {},
   "outputs": [
    {
     "name": "stdout",
     "output_type": "stream",
     "text": [
      " Object -:  {'a': {'b': {'c': 'd'}}}\n",
      " Key -:  e\n",
      " value -:  None\n"
     ]
    }
   ],
   "source": [
    "# I am giving here the first input\n",
    "object1 = {'a':{'b':{'c':'d'}}}\n",
    "key1 = 'e'\n",
    "\n",
    "#lets call the the fuction with input\n",
    "value = find_nested_value(object1,key1)\n",
    "\n",
    "# print the return value \n",
    "print(\" Object -: \", object1 )\n",
    "print(\" Key -: \", key1 )\n",
    "print(\" value -: \", value)"
   ]
  },
  {
   "cell_type": "markdown",
   "id": "7e217efc",
   "metadata": {},
   "source": [
    "# Thank you"
   ]
  }
 ],
 "metadata": {
  "kernelspec": {
   "display_name": "Python 3 (ipykernel)",
   "language": "python",
   "name": "python3"
  },
  "language_info": {
   "codemirror_mode": {
    "name": "ipython",
    "version": 3
   },
   "file_extension": ".py",
   "mimetype": "text/x-python",
   "name": "python",
   "nbconvert_exporter": "python",
   "pygments_lexer": "ipython3",
   "version": "3.10.7"
  }
 },
 "nbformat": 4,
 "nbformat_minor": 5
}
